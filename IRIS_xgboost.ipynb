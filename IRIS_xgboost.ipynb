{
  "nbformat": 4,
  "nbformat_minor": 0,
  "metadata": {
    "colab": {
      "name": "IRIS_xgboost.ipynb",
      "provenance": [],
      "collapsed_sections": [],
      "authorship_tag": "ABX9TyMC5DZMXwAd1kpjCRXWW145",
      "include_colab_link": true
    },
    "kernelspec": {
      "name": "python3",
      "display_name": "Python 3"
    }
  },
  "cells": [
    {
      "cell_type": "markdown",
      "metadata": {
        "id": "view-in-github",
        "colab_type": "text"
      },
      "source": [
        "<a href=\"https://colab.research.google.com/github/HeewonChung92/BAMI_Lecture/blob/master/IRIS_xgboost.ipynb\" target=\"_parent\"><img src=\"https://colab.research.google.com/assets/colab-badge.svg\" alt=\"Open In Colab\"/></a>"
      ]
    },
    {
      "cell_type": "markdown",
      "metadata": {
        "id": "MJ9KtgYg2dhJ",
        "colab_type": "text"
      },
      "source": [
        "Install the XGBoost: "
      ]
    },
    {
      "cell_type": "code",
      "metadata": {
        "id": "F9cyOE8d0AjU",
        "colab_type": "code",
        "colab": {
          "base_uri": "https://localhost:8080/",
          "height": 71
        },
        "outputId": "5e28d195-6937-486e-898e-dd4897942776"
      },
      "source": [
        "pip install xgboost"
      ],
      "execution_count": null,
      "outputs": [
        {
          "output_type": "stream",
          "text": [
            "Requirement already satisfied: xgboost in /usr/local/lib/python3.6/dist-packages (0.90)\n",
            "Requirement already satisfied: numpy in /usr/local/lib/python3.6/dist-packages (from xgboost) (1.18.5)\n",
            "Requirement already satisfied: scipy in /usr/local/lib/python3.6/dist-packages (from xgboost) (1.4.1)\n"
          ],
          "name": "stdout"
        }
      ]
    },
    {
      "cell_type": "markdown",
      "metadata": {
        "id": "i_JwmVE12i_2",
        "colab_type": "text"
      },
      "source": [
        "Import the libraray: "
      ]
    },
    {
      "cell_type": "code",
      "metadata": {
        "id": "gzQxlrWS0ITW",
        "colab_type": "code",
        "colab": {}
      },
      "source": [
        "import numpy as np\n",
        "import matplotlib.pyplot as plt\n",
        "plt.rcParams[\"figure.figsize\"] = (20, 8)   # 보여지는 차트 크기를 크게 보여줌 \n",
        "plt.rcParams['axes.labelsize'] = 20\n",
        "plt.rcParams['xtick.labelsize'] = 18\n",
        "plt.rcParams['ytick.labelsize'] = 18\n",
        "\n",
        "# import xgboost as xgb\n",
        "from xgboost import XGBClassifier, plot_importance\n",
        "\n",
        "from sklearn import datasets\n",
        "from sklearn.preprocessing import StandardScaler\n",
        "from sklearn.model_selection import train_test_split\n",
        "from sklearn.metrics import accuracy_score, confusion_matrix"
      ],
      "execution_count": null,
      "outputs": []
    },
    {
      "cell_type": "markdown",
      "metadata": {
        "id": "bDOW5t0wzbkW",
        "colab_type": "text"
      },
      "source": [
        "Load the dataset from sklearn:\n",
        "0=Iris-Setosa, 1=Iris-Versicolor, 2=Iris-Virginica."
      ]
    },
    {
      "cell_type": "code",
      "metadata": {
        "id": "NgcFNsQJzFwX",
        "colab_type": "code",
        "colab": {
          "base_uri": "https://localhost:8080/",
          "height": 53
        },
        "outputId": "477e18b6-99ef-49a3-960b-fa7b62366227"
      },
      "source": [
        "iris = datasets.load_iris()\n",
        "data_input = iris.data\n",
        "data_label = iris.target\n",
        "data_features = ['0-Setosa', '1-Versicolor', '2-Virginica']\n",
        "print('Iris data: ', data_input.shape, iris.feature_names)\n",
        "print('클래스 레이블:', np.unique(data_label))"
      ],
      "execution_count": null,
      "outputs": [
        {
          "output_type": "stream",
          "text": [
            "Iris data:  (150, 4) ['sepal length (cm)', 'sepal width (cm)', 'petal length (cm)', 'petal width (cm)']\n",
            "클래스 레이블: [0 1 2]\n"
          ],
          "name": "stdout"
        }
      ]
    },
    {
      "cell_type": "markdown",
      "metadata": {
        "id": "5tCW6xZ7zJrE",
        "colab_type": "text"
      },
      "source": [
        "Split the data into train and test sets with 70%-30% split: \n"
      ]
    },
    {
      "cell_type": "code",
      "metadata": {
        "id": "6k6Ou1dwzSQe",
        "colab_type": "code",
        "colab": {
          "base_uri": "https://localhost:8080/",
          "height": 71
        },
        "outputId": "86433646-006e-4ae6-9564-eb0b4469d7ed"
      },
      "source": [
        "X_train, X_test, y_train, y_test = train_test_split(data_input, data_label, test_size=0.3, random_state=42, stratify=data_label)\n",
        "print('y의 레이블 카운트:', np.bincount(data_label))\n",
        "print('y_train의 레이블 카운트:', np.bincount(y_train))\n",
        "print('y_test의 레이블 카운트:', np.bincount(y_test))"
      ],
      "execution_count": null,
      "outputs": [
        {
          "output_type": "stream",
          "text": [
            "y의 레이블 카운트: [50 50 50]\n",
            "y_train의 레이블 카운트: [35 35 35]\n",
            "y_test의 레이블 카운트: [15 15 15]\n"
          ],
          "name": "stdout"
        }
      ]
    },
    {
      "cell_type": "markdown",
      "metadata": {
        "id": "syY47K2VzkF4",
        "colab_type": "text"
      },
      "source": [
        "Standardize features by removing the mean and scaling to unit variance:   \n",
        "https://scikit-learn.org/stable/modules/generated/sklearn.preprocessing.StandardScaler.html"
      ]
    },
    {
      "cell_type": "code",
      "metadata": {
        "id": "DI2SE5kNzZf8",
        "colab_type": "code",
        "colab": {}
      },
      "source": [
        "sc = StandardScaler()\n",
        "sc.fit(X_train)\n",
        "X_train_std = sc.transform(X_train)\n",
        "X_test_std = sc.transform(X_test)"
      ],
      "execution_count": null,
      "outputs": []
    },
    {
      "cell_type": "markdown",
      "metadata": {
        "id": "v92-9pwD20VU",
        "colab_type": "text"
      },
      "source": [
        "Train the model (This will take a few minutes to run):   \n",
        "https://xgboost.readthedocs.io/en/latest/python/python_api.html#module-xgboost.sklearn "
      ]
    },
    {
      "cell_type": "code",
      "metadata": {
        "id": "q7lNAnRD0xd2",
        "colab_type": "code",
        "colab": {
          "base_uri": "https://localhost:8080/",
          "height": 143
        },
        "outputId": "8855f589-8143-4a14-dff6-c2a815400d09"
      },
      "source": [
        "model_xgb = XGBClassifier(\n",
        "    objective='binary:logistic', # error evaluation for multiclass training\n",
        "    max_depth=4, # the maximum depth of each tree \n",
        "    learning_rate=0.2, # the boosting learning rate \n",
        "    n_estimators=150, # the number of gradient boosted trees \n",
        "    # reg_lambda=1, \n",
        "    # subsample=0.9, \n",
        "    # colsample_bytree=0.9\n",
        ")\n",
        "model_xgb.fit(X_train_std, y_train)"
      ],
      "execution_count": null,
      "outputs": [
        {
          "output_type": "execute_result",
          "data": {
            "text/plain": [
              "XGBClassifier(base_score=0.5, booster='gbtree', colsample_bylevel=1,\n",
              "              colsample_bynode=1, colsample_bytree=1, gamma=0,\n",
              "              learning_rate=0.2, max_delta_step=0, max_depth=4,\n",
              "              min_child_weight=1, missing=None, n_estimators=150, n_jobs=1,\n",
              "              nthread=None, objective='multi:softprob', random_state=0,\n",
              "              reg_alpha=0, reg_lambda=1, scale_pos_weight=1, seed=None,\n",
              "              silent=None, subsample=1, verbosity=1)"
            ]
          },
          "metadata": {
            "tags": []
          },
          "execution_count": 8
        }
      ]
    },
    {
      "cell_type": "markdown",
      "metadata": {
        "id": "fOYIt0kX-8Le",
        "colab_type": "text"
      },
      "source": [
        "Plot feature importance as a bar based on fitted model. "
      ]
    },
    {
      "cell_type": "code",
      "metadata": {
        "id": "PAxn_67f3VRP",
        "colab_type": "code",
        "colab": {
          "base_uri": "https://localhost:8080/",
          "height": 530
        },
        "outputId": "282197f2-43c3-44ef-aeef-d1983d1547b4"
      },
      "source": [
        "plot_importance(model_xgb, max_num_features=4)\n",
        "plt.show()"
      ],
      "execution_count": null,
      "outputs": [
        {
          "output_type": "display_data",
          "data": {
            "image/png": "[encoded data removed]",
            "text/plain": [
              "<Figure size 1440x576 with 1 Axes>"
            ]
          },
          "metadata": {
            "tags": [],
            "needs_background": "light"
          }
        }
      ]
    },
    {
      "cell_type": "markdown",
      "metadata": {
        "id": "KVaK22tZ6Jg4",
        "colab_type": "text"
      },
      "source": [
        "Get predictions on the test set and print the accuracy score: "
      ]
    },
    {
      "cell_type": "code",
      "metadata": {
        "id": "59DHilWm3V1Q",
        "colab_type": "code",
        "colab": {
          "base_uri": "https://localhost:8080/",
          "height": 107
        },
        "outputId": "d7aff41a-a832-4810-cc86-e6b7014de3fc"
      },
      "source": [
        "test_predict = model_xgb.predict_proba(X_test_std)\n",
        "test_best = np.argmax(test_predict, axis=1)\n",
        "print('Label: ', y_test)\n",
        "print('Predict: ', test_best)\n",
        "\n",
        "test_acc = accuracy_score(y_test, test_best)\n",
        "print('Accuracy: ', test_acc)"
      ],
      "execution_count": null,
      "outputs": [
        {
          "output_type": "stream",
          "text": [
            "Label:  [2 1 2 1 2 2 1 1 0 2 0 0 2 2 0 2 1 0 0 0 1 0 1 2 2 1 1 1 1 0 2 2 1 0 2 0 0\n",
            " 0 0 1 1 0 2 2 1]\n",
            "Predict:  [2 1 2 1 2 2 1 1 0 2 0 0 2 2 0 2 1 0 0 0 1 0 1 2 1 1 1 1 1 0 2 2 1 0 2 0 0\n",
            " 0 0 2 1 0 1 2 1]\n",
            "Accuracy:  0.9333333333333333\n"
          ],
          "name": "stdout"
        }
      ]
    },
    {
      "cell_type": "markdown",
      "metadata": {
        "id": "kcGJqGt66S_8",
        "colab_type": "text"
      },
      "source": [
        "Plot the confusion matrix:    \n",
        "https://scikit-learn.org/stable/auto_examples/model_selection/plot_confusion_matrix.html"
      ]
    },
    {
      "cell_type": "code",
      "metadata": {
        "id": "NF1wiMap5s9x",
        "colab_type": "code",
        "colab": {
          "base_uri": "https://localhost:8080/",
          "height": 532
        },
        "outputId": "53e2981c-d03f-444c-a6ab-d8e0c96d9769"
      },
      "source": [
        "# cfs_mtx = confusion_matrix(y_test, test_best, labels=[0, 1, 2])\n",
        "# print('Confusion Matrix: ')\n",
        "# print(cfs_mtx)\n",
        "from sklearn.metrics import plot_confusion_matrix\n",
        "plot_confusion_matrix(model_xgb, X_test_std, y_test, display_labels=data_features, cmap=plt.cm.Blues)"
      ],
      "execution_count": null,
      "outputs": [
        {
          "output_type": "execute_result",
          "data": {
            "text/plain": [
              "<sklearn.metrics._plot.confusion_matrix.ConfusionMatrixDisplay at 0x7f069b22d240>"
            ]
          },
          "metadata": {
            "tags": []
          },
          "execution_count": 27
        },
        {
          "output_type": "display_data",
          "data": {
            "image/png": "[encoded data removed]",
            "text/plain": [
              "<Figure size 1440x576 with 2 Axes>"
            ]
          },
          "metadata": {
            "tags": [],
            "needs_background": "light"
          }
        }
      ]
    }
  ]
}